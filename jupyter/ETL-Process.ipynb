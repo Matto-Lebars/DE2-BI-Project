{
 "cells": [
  {
   "cell_type": "markdown",
   "source": [
    "# DE2-BI-Project - ETL Process\n",
    "\n",
    "## Importing libraries"
   ],
   "metadata": {
    "collapsed": false
   },
   "id": "5c01303bd8e6c558"
  },
  {
   "cell_type": "code",
   "execution_count": 19,
   "id": "initial_id",
   "metadata": {
    "collapsed": true,
    "ExecuteTime": {
     "end_time": "2024-01-15T08:04:10.174733800Z",
     "start_time": "2024-01-15T08:04:10.064266100Z"
    }
   },
   "outputs": [],
   "source": [
    "from sqlalchemy import text\n",
    "\n",
    "import pandas as pd"
   ]
  },
  {
   "cell_type": "code",
   "outputs": [],
   "source": [
    "from config.settings import MARIA_DB_URI, MS_SQL_URI\n",
    "\n",
    "import python.database_api as db"
   ],
   "metadata": {
    "collapsed": false,
    "ExecuteTime": {
     "end_time": "2024-01-15T08:04:10.209775800Z",
     "start_time": "2024-01-15T08:04:10.179735700Z"
    }
   },
   "id": "ac247b7669d47612",
   "execution_count": 20
  },
  {
   "cell_type": "markdown",
   "source": [
    "## Instantiate database connections\n",
    "\n",
    "### MariaDB"
   ],
   "metadata": {
    "collapsed": false
   },
   "id": "36d8f5e3439b0e1f"
  },
  {
   "cell_type": "code",
   "outputs": [
    {
     "name": "stdout",
     "output_type": "stream",
     "text": [
      "MariaDB connection successful\n"
     ]
    }
   ],
   "source": [
    "mariadb_session_manager = db.SessionManager(MARIA_DB_URI)\n",
    "\n",
    "try:\n",
    "    mariadb_session = mariadb_session_manager.get_session()\n",
    "    print(\"MariaDB connection successful\")\n",
    "    mariadb_session.close()\n",
    "except Exception as e:\n",
    "    print(e)\n",
    "    "
   ],
   "metadata": {
    "collapsed": false,
    "ExecuteTime": {
     "end_time": "2024-01-15T08:04:10.238525900Z",
     "start_time": "2024-01-15T08:04:10.195643100Z"
    }
   },
   "id": "aba6ecb027a78c9",
   "execution_count": 21
  },
  {
   "cell_type": "markdown",
   "source": [
    "Drop mariadb tables"
   ],
   "metadata": {
    "collapsed": false
   },
   "id": "4dffc62c23555f94"
  },
  {
   "cell_type": "code",
   "outputs": [],
   "source": [
    "mariadb_session_manager.get_session().execute(text(\"DROP TABLE IF EXISTS sales;\"))\n",
    "\n",
    "mariadb_session_manager.get_session().execute(text(\"DROP TABLE IF EXISTS sales_detail;\"))\n",
    "\n",
    "mariadb_session_manager.get_session().execute(text(\"DROP TABLE IF EXISTS customer;\"))\n",
    "\n",
    "mariadb_session_manager.get_session().execute(text(\"DROP TABLE IF EXISTS sales_reason;\"))\n",
    "\n",
    "mariadb_session_manager.get_session().execute(text(\"DROP TABLE IF EXISTS special_offer;\"))\n",
    "\n",
    "mariadb_session_manager.get_session().execute(text(\"DROP TABLE IF EXISTS credit_card;\"))\n",
    "\n",
    "mariadb_session_manager.get_session().commit()\n",
    "\n",
    "mariadb_session_manager.get_session().close()"
   ],
   "metadata": {
    "collapsed": false,
    "ExecuteTime": {
     "end_time": "2024-01-15T08:04:10.358863Z",
     "start_time": "2024-01-15T08:04:10.219209800Z"
    }
   },
   "id": "9688fbcd5487b96a",
   "execution_count": 22
  },
  {
   "cell_type": "markdown",
   "source": [
    "### MsSQL"
   ],
   "metadata": {
    "collapsed": false
   },
   "id": "3281d8b81b568ae1"
  },
  {
   "cell_type": "code",
   "outputs": [
    {
     "name": "stdout",
     "output_type": "stream",
     "text": [
      "MsSQL connection successful\n"
     ]
    }
   ],
   "source": [
    "ms_sql_session_manager = db.SessionManager(MS_SQL_URI)\n",
    "\n",
    "try:\n",
    "    ms_sql_session = ms_sql_session_manager.get_session()\n",
    "    print(\"MsSQL connection successful\")\n",
    "    ms_sql_session.close()\n",
    "except Exception as e:\n",
    "    print(e)"
   ],
   "metadata": {
    "collapsed": false,
    "ExecuteTime": {
     "end_time": "2024-01-15T08:04:10.383476300Z",
     "start_time": "2024-01-15T08:04:10.331615800Z"
    }
   },
   "id": "2d6952c29caf99f",
   "execution_count": 23
  },
  {
   "cell_type": "markdown",
   "source": [
    "## Extract Transform Load (ETL)\n",
    "\n",
    "### Sales Table\n",
    "\n",
    "#### Extract"
   ],
   "metadata": {
    "collapsed": false
   },
   "id": "e96553b831b99c2f"
  },
  {
   "cell_type": "code",
   "outputs": [
    {
     "data": {
      "text/plain": "   SalesOrderID  OrderDate    DueDate   ShipDate  OnlineOrderFlag  \\\n0         43697 2011-05-31 2011-06-12 2011-06-07             True   \n1         43697 2011-05-31 2011-06-12 2011-06-07             True   \n2         43702 2011-06-01 2011-06-13 2011-06-08             True   \n3         43702 2011-06-01 2011-06-13 2011-06-08             True   \n4         43703 2011-06-01 2011-06-13 2011-06-08             True   \n\n  SalesOrderNumber PurchaseOrderNumber   AccountNumber  CustomerID  \\\n0          SO43697                None  10-4030-021768       21768   \n1          SO43697                None  10-4030-021768       21768   \n2          SO43702                None  10-4030-027645       27645   \n3          SO43702                None  10-4030-027645       27645   \n4          SO43703                None  10-4030-016624       16624   \n\n  SalesPersonID  TerritoryID  CurrencyRateID  SubTotal    TaxAmt  Freight  \\\n0          None            6             4.0   3578.27  286.2616  89.4568   \n1          None            6             4.0   3578.27  286.2616  89.4568   \n2          None            4             NaN   3578.27  286.2616  89.4568   \n3          None            4             NaN   3578.27  286.2616  89.4568   \n4          None            9            15.0   3578.27  286.2616  89.4568   \n\n    TotalDue  CreditCardID  SalesReasonID  \n0  3953.9884        4319.0              5  \n1  3953.9884        4319.0              9  \n2  3953.9884        8087.0              5  \n3  3953.9884        8087.0              9  \n4  3953.9884        9497.0              5  ",
      "text/html": "<div>\n<style scoped>\n    .dataframe tbody tr th:only-of-type {\n        vertical-align: middle;\n    }\n\n    .dataframe tbody tr th {\n        vertical-align: top;\n    }\n\n    .dataframe thead th {\n        text-align: right;\n    }\n</style>\n<table border=\"1\" class=\"dataframe\">\n  <thead>\n    <tr style=\"text-align: right;\">\n      <th></th>\n      <th>SalesOrderID</th>\n      <th>OrderDate</th>\n      <th>DueDate</th>\n      <th>ShipDate</th>\n      <th>OnlineOrderFlag</th>\n      <th>SalesOrderNumber</th>\n      <th>PurchaseOrderNumber</th>\n      <th>AccountNumber</th>\n      <th>CustomerID</th>\n      <th>SalesPersonID</th>\n      <th>TerritoryID</th>\n      <th>CurrencyRateID</th>\n      <th>SubTotal</th>\n      <th>TaxAmt</th>\n      <th>Freight</th>\n      <th>TotalDue</th>\n      <th>CreditCardID</th>\n      <th>SalesReasonID</th>\n    </tr>\n  </thead>\n  <tbody>\n    <tr>\n      <th>0</th>\n      <td>43697</td>\n      <td>2011-05-31</td>\n      <td>2011-06-12</td>\n      <td>2011-06-07</td>\n      <td>True</td>\n      <td>SO43697</td>\n      <td>None</td>\n      <td>10-4030-021768</td>\n      <td>21768</td>\n      <td>None</td>\n      <td>6</td>\n      <td>4.0</td>\n      <td>3578.27</td>\n      <td>286.2616</td>\n      <td>89.4568</td>\n      <td>3953.9884</td>\n      <td>4319.0</td>\n      <td>5</td>\n    </tr>\n    <tr>\n      <th>1</th>\n      <td>43697</td>\n      <td>2011-05-31</td>\n      <td>2011-06-12</td>\n      <td>2011-06-07</td>\n      <td>True</td>\n      <td>SO43697</td>\n      <td>None</td>\n      <td>10-4030-021768</td>\n      <td>21768</td>\n      <td>None</td>\n      <td>6</td>\n      <td>4.0</td>\n      <td>3578.27</td>\n      <td>286.2616</td>\n      <td>89.4568</td>\n      <td>3953.9884</td>\n      <td>4319.0</td>\n      <td>9</td>\n    </tr>\n    <tr>\n      <th>2</th>\n      <td>43702</td>\n      <td>2011-06-01</td>\n      <td>2011-06-13</td>\n      <td>2011-06-08</td>\n      <td>True</td>\n      <td>SO43702</td>\n      <td>None</td>\n      <td>10-4030-027645</td>\n      <td>27645</td>\n      <td>None</td>\n      <td>4</td>\n      <td>NaN</td>\n      <td>3578.27</td>\n      <td>286.2616</td>\n      <td>89.4568</td>\n      <td>3953.9884</td>\n      <td>8087.0</td>\n      <td>5</td>\n    </tr>\n    <tr>\n      <th>3</th>\n      <td>43702</td>\n      <td>2011-06-01</td>\n      <td>2011-06-13</td>\n      <td>2011-06-08</td>\n      <td>True</td>\n      <td>SO43702</td>\n      <td>None</td>\n      <td>10-4030-027645</td>\n      <td>27645</td>\n      <td>None</td>\n      <td>4</td>\n      <td>NaN</td>\n      <td>3578.27</td>\n      <td>286.2616</td>\n      <td>89.4568</td>\n      <td>3953.9884</td>\n      <td>8087.0</td>\n      <td>9</td>\n    </tr>\n    <tr>\n      <th>4</th>\n      <td>43703</td>\n      <td>2011-06-01</td>\n      <td>2011-06-13</td>\n      <td>2011-06-08</td>\n      <td>True</td>\n      <td>SO43703</td>\n      <td>None</td>\n      <td>10-4030-016624</td>\n      <td>16624</td>\n      <td>None</td>\n      <td>9</td>\n      <td>15.0</td>\n      <td>3578.27</td>\n      <td>286.2616</td>\n      <td>89.4568</td>\n      <td>3953.9884</td>\n      <td>9497.0</td>\n      <td>5</td>\n    </tr>\n  </tbody>\n</table>\n</div>"
     },
     "execution_count": 24,
     "metadata": {},
     "output_type": "execute_result"
    }
   ],
   "source": [
    "sales_sql = \"\"\"\n",
    "SELECT\n",
    "    sales.SalesOrderID,\n",
    "    OrderDate,\n",
    "    DueDate,\n",
    "    ShipDate,\n",
    "    OnlineOrderFlag,\n",
    "    SalesOrderNumber,\n",
    "    PurchaseOrderNumber,\n",
    "    AccountNumber,\n",
    "    CustomerID,\n",
    "    SalesPersonID,\n",
    "    TerritoryID,\n",
    "    CurrencyRateID,\n",
    "    SubTotal,\n",
    "    TaxAmt,\n",
    "    Freight,\n",
    "    TotalDue,\n",
    "    CreditCardID,\n",
    "    SalesReasonID\n",
    "FROM Sales.SalesOrderHeader as sales\n",
    "INNER JOIN Sales.SalesOrderHeaderSalesReason as reason\n",
    "    ON sales.SalesOrderID = reason.SalesOrderID;\n",
    "\"\"\"\n",
    "\n",
    "df = pd.read_sql(sales_sql, ms_sql_session_manager.get_engine())\n",
    "\n",
    "df.head()"
   ],
   "metadata": {
    "collapsed": false,
    "ExecuteTime": {
     "end_time": "2024-01-15T08:04:11.392227300Z",
     "start_time": "2024-01-15T08:04:10.363887Z"
    }
   },
   "id": "af75ff701d6e3230",
   "execution_count": 24
  },
  {
   "cell_type": "markdown",
   "source": [
    "#### Transform"
   ],
   "metadata": {
    "collapsed": false
   },
   "id": "bc6d2af8efd66952"
  },
  {
   "cell_type": "code",
   "outputs": [],
   "source": [],
   "metadata": {
    "collapsed": false,
    "ExecuteTime": {
     "end_time": "2024-01-15T08:04:11.402356500Z",
     "start_time": "2024-01-15T08:04:11.394281Z"
    }
   },
   "id": "1f3d97e9c49eebee",
   "execution_count": 24
  },
  {
   "cell_type": "markdown",
   "source": [
    "#### Load"
   ],
   "metadata": {
    "collapsed": false
   },
   "id": "5f0a5d44c9644230"
  },
  {
   "cell_type": "code",
   "outputs": [
    {
     "data": {
      "text/plain": "27647"
     },
     "execution_count": 25,
     "metadata": {},
     "output_type": "execute_result"
    }
   ],
   "source": [
    "df.to_sql(\n",
    "    'sales', \n",
    "    mariadb_session_manager.get_engine(), \n",
    "    if_exists='replace', \n",
    "    index=False\n",
    ")"
   ],
   "metadata": {
    "collapsed": false,
    "ExecuteTime": {
     "end_time": "2024-01-15T08:04:13.501268Z",
     "start_time": "2024-01-15T08:04:11.401453300Z"
    }
   },
   "id": "e99fb7abfc7c723d",
   "execution_count": 25
  },
  {
   "cell_type": "markdown",
   "source": [
    "### SalesDetail Table"
   ],
   "metadata": {
    "collapsed": false
   },
   "id": "da7502a435dc5291"
  },
  {
   "cell_type": "code",
   "outputs": [
    {
     "data": {
      "text/plain": "   SalesOrderID  SalesOrderDetailID CarrierTrackingNumber  OrderQty  \\\n0         43659                   1          4911-403C-98         1   \n1         43659                   2          4911-403C-98         3   \n2         43659                   3          4911-403C-98         1   \n3         43659                   4          4911-403C-98         1   \n4         43659                   5          4911-403C-98         1   \n\n   ProductID  SpecialOfferID  UnitPrice  UnitPriceDiscount  LineTotal  \n0        776               1   2024.994                0.0   2024.994  \n1        777               1   2024.994                0.0   6074.982  \n2        778               1   2024.994                0.0   2024.994  \n3        771               1   2039.994                0.0   2039.994  \n4        772               1   2039.994                0.0   2039.994  ",
      "text/html": "<div>\n<style scoped>\n    .dataframe tbody tr th:only-of-type {\n        vertical-align: middle;\n    }\n\n    .dataframe tbody tr th {\n        vertical-align: top;\n    }\n\n    .dataframe thead th {\n        text-align: right;\n    }\n</style>\n<table border=\"1\" class=\"dataframe\">\n  <thead>\n    <tr style=\"text-align: right;\">\n      <th></th>\n      <th>SalesOrderID</th>\n      <th>SalesOrderDetailID</th>\n      <th>CarrierTrackingNumber</th>\n      <th>OrderQty</th>\n      <th>ProductID</th>\n      <th>SpecialOfferID</th>\n      <th>UnitPrice</th>\n      <th>UnitPriceDiscount</th>\n      <th>LineTotal</th>\n    </tr>\n  </thead>\n  <tbody>\n    <tr>\n      <th>0</th>\n      <td>43659</td>\n      <td>1</td>\n      <td>4911-403C-98</td>\n      <td>1</td>\n      <td>776</td>\n      <td>1</td>\n      <td>2024.994</td>\n      <td>0.0</td>\n      <td>2024.994</td>\n    </tr>\n    <tr>\n      <th>1</th>\n      <td>43659</td>\n      <td>2</td>\n      <td>4911-403C-98</td>\n      <td>3</td>\n      <td>777</td>\n      <td>1</td>\n      <td>2024.994</td>\n      <td>0.0</td>\n      <td>6074.982</td>\n    </tr>\n    <tr>\n      <th>2</th>\n      <td>43659</td>\n      <td>3</td>\n      <td>4911-403C-98</td>\n      <td>1</td>\n      <td>778</td>\n      <td>1</td>\n      <td>2024.994</td>\n      <td>0.0</td>\n      <td>2024.994</td>\n    </tr>\n    <tr>\n      <th>3</th>\n      <td>43659</td>\n      <td>4</td>\n      <td>4911-403C-98</td>\n      <td>1</td>\n      <td>771</td>\n      <td>1</td>\n      <td>2039.994</td>\n      <td>0.0</td>\n      <td>2039.994</td>\n    </tr>\n    <tr>\n      <th>4</th>\n      <td>43659</td>\n      <td>5</td>\n      <td>4911-403C-98</td>\n      <td>1</td>\n      <td>772</td>\n      <td>1</td>\n      <td>2039.994</td>\n      <td>0.0</td>\n      <td>2039.994</td>\n    </tr>\n  </tbody>\n</table>\n</div>"
     },
     "execution_count": 26,
     "metadata": {},
     "output_type": "execute_result"
    }
   ],
   "source": [
    "sales_detail_sql = \"\"\"\n",
    "SELECT SalesOrderID,\n",
    "    SalesOrderDetailID,\n",
    "    CarrierTrackingNumber,\n",
    "    OrderQty,\n",
    "    ProductID,\n",
    "    SpecialOfferID,\n",
    "    UnitPrice,\n",
    "    UnitPriceDiscount,\n",
    "    LineTotal\n",
    "       FROM Sales.SalesOrderDetail;\n",
    "\"\"\"\n",
    "\n",
    "df = pd.read_sql(sales_detail_sql, ms_sql_session_manager.get_engine())\n",
    "\n",
    "df.head()"
   ],
   "metadata": {
    "collapsed": false,
    "ExecuteTime": {
     "end_time": "2024-01-15T08:04:15.734301300Z",
     "start_time": "2024-01-15T08:04:13.503265900Z"
    }
   },
   "id": "85d718e06c3566e",
   "execution_count": 26
  },
  {
   "cell_type": "markdown",
   "source": [
    "#### Transform"
   ],
   "metadata": {
    "collapsed": false
   },
   "id": "93bff4b7b10ad789"
  },
  {
   "cell_type": "markdown",
   "source": [
    "#### Load"
   ],
   "metadata": {
    "collapsed": false
   },
   "id": "b5ac817a4b3e5793"
  },
  {
   "cell_type": "code",
   "outputs": [
    {
     "data": {
      "text/plain": "121317"
     },
     "execution_count": 27,
     "metadata": {},
     "output_type": "execute_result"
    }
   ],
   "source": [
    "df.to_sql(\n",
    "    'sales_detail', \n",
    "    mariadb_session_manager.get_engine(), \n",
    "    if_exists='replace', \n",
    "    index=False\n",
    ")"
   ],
   "metadata": {
    "collapsed": false,
    "ExecuteTime": {
     "end_time": "2024-01-15T08:04:19.812779300Z",
     "start_time": "2024-01-15T08:04:15.736320600Z"
    }
   },
   "id": "c2d25e4ed5dd430e",
   "execution_count": 27
  },
  {
   "cell_type": "markdown",
   "source": [
    "### Customer Table\n",
    "#### Extract"
   ],
   "metadata": {
    "collapsed": false
   },
   "id": "5ebd269861728a0e"
  },
  {
   "cell_type": "code",
   "outputs": [
    {
     "data": {
      "text/plain": "   CustomerID  PersonID  StoreID  TerritoryID AccountNumber\n0           1       NaN    934.0            1    AW00000001\n1           2       NaN   1028.0            1    AW00000002\n2           3       NaN    642.0            4    AW00000003\n3           4       NaN    932.0            4    AW00000004\n4           5       NaN   1026.0            4    AW00000005",
      "text/html": "<div>\n<style scoped>\n    .dataframe tbody tr th:only-of-type {\n        vertical-align: middle;\n    }\n\n    .dataframe tbody tr th {\n        vertical-align: top;\n    }\n\n    .dataframe thead th {\n        text-align: right;\n    }\n</style>\n<table border=\"1\" class=\"dataframe\">\n  <thead>\n    <tr style=\"text-align: right;\">\n      <th></th>\n      <th>CustomerID</th>\n      <th>PersonID</th>\n      <th>StoreID</th>\n      <th>TerritoryID</th>\n      <th>AccountNumber</th>\n    </tr>\n  </thead>\n  <tbody>\n    <tr>\n      <th>0</th>\n      <td>1</td>\n      <td>NaN</td>\n      <td>934.0</td>\n      <td>1</td>\n      <td>AW00000001</td>\n    </tr>\n    <tr>\n      <th>1</th>\n      <td>2</td>\n      <td>NaN</td>\n      <td>1028.0</td>\n      <td>1</td>\n      <td>AW00000002</td>\n    </tr>\n    <tr>\n      <th>2</th>\n      <td>3</td>\n      <td>NaN</td>\n      <td>642.0</td>\n      <td>4</td>\n      <td>AW00000003</td>\n    </tr>\n    <tr>\n      <th>3</th>\n      <td>4</td>\n      <td>NaN</td>\n      <td>932.0</td>\n      <td>4</td>\n      <td>AW00000004</td>\n    </tr>\n    <tr>\n      <th>4</th>\n      <td>5</td>\n      <td>NaN</td>\n      <td>1026.0</td>\n      <td>4</td>\n      <td>AW00000005</td>\n    </tr>\n  </tbody>\n</table>\n</div>"
     },
     "execution_count": 28,
     "metadata": {},
     "output_type": "execute_result"
    }
   ],
   "source": [
    "customer_sql = \"\"\"\n",
    "SELECT\n",
    "    CustomerID,\n",
    "    PersonID,\n",
    "    StoreID,\n",
    "    TerritoryID,\n",
    "    AccountNumber\n",
    "    From Sales.Customer;\n",
    "\"\"\"\n",
    "\n",
    "df = pd.read_sql(customer_sql, ms_sql_session_manager.get_engine())\n",
    "\n",
    "df.head()"
   ],
   "metadata": {
    "collapsed": false,
    "ExecuteTime": {
     "end_time": "2024-01-15T08:04:19.976175700Z",
     "start_time": "2024-01-15T08:04:19.814779800Z"
    }
   },
   "id": "cfaaf57b375321ab",
   "execution_count": 28
  },
  {
   "cell_type": "markdown",
   "source": [
    "#### Transform"
   ],
   "metadata": {
    "collapsed": false
   },
   "id": "259da4ebb2b6e1b1"
  },
  {
   "cell_type": "markdown",
   "source": [
    "#### Load"
   ],
   "metadata": {
    "collapsed": false
   },
   "id": "560cf6a0dbd85b6f"
  },
  {
   "cell_type": "code",
   "outputs": [
    {
     "data": {
      "text/plain": "19820"
     },
     "execution_count": 29,
     "metadata": {},
     "output_type": "execute_result"
    }
   ],
   "source": [
    "df.to_sql(\n",
    "    'customer', \n",
    "    mariadb_session_manager.get_engine(), \n",
    "    if_exists='replace', \n",
    "    index=False\n",
    ")"
   ],
   "metadata": {
    "collapsed": false,
    "ExecuteTime": {
     "end_time": "2024-01-15T08:04:20.838164200Z",
     "start_time": "2024-01-15T08:04:19.976939400Z"
    }
   },
   "id": "e1e417a45f0c3265",
   "execution_count": 29
  },
  {
   "cell_type": "markdown",
   "source": [
    "### SalesReason Table\n",
    "#### Extract"
   ],
   "metadata": {
    "collapsed": false
   },
   "id": "7f1f2c3f543e7279"
  },
  {
   "cell_type": "code",
   "outputs": [
    {
     "data": {
      "text/plain": "   SalesReasonID                       Name ReasonType\n0              1                      Price      Other\n1              2               On Promotion  Promotion\n2              3     Magazine Advertisement  Marketing\n3              4  Television  Advertisement  Marketing\n4              5               Manufacturer      Other",
      "text/html": "<div>\n<style scoped>\n    .dataframe tbody tr th:only-of-type {\n        vertical-align: middle;\n    }\n\n    .dataframe tbody tr th {\n        vertical-align: top;\n    }\n\n    .dataframe thead th {\n        text-align: right;\n    }\n</style>\n<table border=\"1\" class=\"dataframe\">\n  <thead>\n    <tr style=\"text-align: right;\">\n      <th></th>\n      <th>SalesReasonID</th>\n      <th>Name</th>\n      <th>ReasonType</th>\n    </tr>\n  </thead>\n  <tbody>\n    <tr>\n      <th>0</th>\n      <td>1</td>\n      <td>Price</td>\n      <td>Other</td>\n    </tr>\n    <tr>\n      <th>1</th>\n      <td>2</td>\n      <td>On Promotion</td>\n      <td>Promotion</td>\n    </tr>\n    <tr>\n      <th>2</th>\n      <td>3</td>\n      <td>Magazine Advertisement</td>\n      <td>Marketing</td>\n    </tr>\n    <tr>\n      <th>3</th>\n      <td>4</td>\n      <td>Television  Advertisement</td>\n      <td>Marketing</td>\n    </tr>\n    <tr>\n      <th>4</th>\n      <td>5</td>\n      <td>Manufacturer</td>\n      <td>Other</td>\n    </tr>\n  </tbody>\n</table>\n</div>"
     },
     "execution_count": 30,
     "metadata": {},
     "output_type": "execute_result"
    }
   ],
   "source": [
    "sales_reason_sql = \"\"\"\n",
    "SELECT\n",
    "    SalesReasonID,\n",
    "    Name,\n",
    "    ReasonType\n",
    "    From Sales.SalesReason;\n",
    "\"\"\"\n",
    "\n",
    "df = pd.read_sql(sales_reason_sql, ms_sql_session_manager.get_engine())\n",
    "\n",
    "df.head()"
   ],
   "metadata": {
    "collapsed": false,
    "ExecuteTime": {
     "end_time": "2024-01-15T08:04:20.857207400Z",
     "start_time": "2024-01-15T08:04:20.838164200Z"
    }
   },
   "id": "90a38a1f15fc33b5",
   "execution_count": 30
  },
  {
   "cell_type": "markdown",
   "source": [
    "#### Transform"
   ],
   "metadata": {
    "collapsed": false
   },
   "id": "b954a365e981d520"
  },
  {
   "cell_type": "markdown",
   "source": [
    "#### Load"
   ],
   "metadata": {
    "collapsed": false
   },
   "id": "d6c54267e69bb2c8"
  },
  {
   "cell_type": "code",
   "outputs": [
    {
     "data": {
      "text/plain": "10"
     },
     "execution_count": 31,
     "metadata": {},
     "output_type": "execute_result"
    }
   ],
   "source": [
    "df.to_sql(\n",
    "    'sales_reason', \n",
    "    mariadb_session_manager.get_engine(), \n",
    "    if_exists='replace', \n",
    "    index=False\n",
    ")"
   ],
   "metadata": {
    "collapsed": false,
    "ExecuteTime": {
     "end_time": "2024-01-15T08:04:20.966076200Z",
     "start_time": "2024-01-15T08:04:20.861236300Z"
    }
   },
   "id": "d532f98ef964cc95",
   "execution_count": 31
  },
  {
   "cell_type": "markdown",
   "source": [
    "### SpecialOffer Table\n",
    "#### Extract"
   ],
   "metadata": {
    "collapsed": false
   },
   "id": "47fac2ff44cb9f5c"
  },
  {
   "cell_type": "code",
   "outputs": [
    {
     "data": {
      "text/plain": "   SpecialOfferID  ProductID  Description  DiscountPct         Type  \\\n0               1        680  No Discount          0.0  No Discount   \n1               1        706  No Discount          0.0  No Discount   \n2               1        707  No Discount          0.0  No Discount   \n3               1        708  No Discount          0.0  No Discount   \n4               1        709  No Discount          0.0  No Discount   \n\n      Category  StartDate    EndDate  MinQty  MaxQty  \n0  No Discount 2011-05-01 2014-11-30       0     NaN  \n1  No Discount 2011-05-01 2014-11-30       0     NaN  \n2  No Discount 2011-05-01 2014-11-30       0     NaN  \n3  No Discount 2011-05-01 2014-11-30       0     NaN  \n4  No Discount 2011-05-01 2014-11-30       0     NaN  ",
      "text/html": "<div>\n<style scoped>\n    .dataframe tbody tr th:only-of-type {\n        vertical-align: middle;\n    }\n\n    .dataframe tbody tr th {\n        vertical-align: top;\n    }\n\n    .dataframe thead th {\n        text-align: right;\n    }\n</style>\n<table border=\"1\" class=\"dataframe\">\n  <thead>\n    <tr style=\"text-align: right;\">\n      <th></th>\n      <th>SpecialOfferID</th>\n      <th>ProductID</th>\n      <th>Description</th>\n      <th>DiscountPct</th>\n      <th>Type</th>\n      <th>Category</th>\n      <th>StartDate</th>\n      <th>EndDate</th>\n      <th>MinQty</th>\n      <th>MaxQty</th>\n    </tr>\n  </thead>\n  <tbody>\n    <tr>\n      <th>0</th>\n      <td>1</td>\n      <td>680</td>\n      <td>No Discount</td>\n      <td>0.0</td>\n      <td>No Discount</td>\n      <td>No Discount</td>\n      <td>2011-05-01</td>\n      <td>2014-11-30</td>\n      <td>0</td>\n      <td>NaN</td>\n    </tr>\n    <tr>\n      <th>1</th>\n      <td>1</td>\n      <td>706</td>\n      <td>No Discount</td>\n      <td>0.0</td>\n      <td>No Discount</td>\n      <td>No Discount</td>\n      <td>2011-05-01</td>\n      <td>2014-11-30</td>\n      <td>0</td>\n      <td>NaN</td>\n    </tr>\n    <tr>\n      <th>2</th>\n      <td>1</td>\n      <td>707</td>\n      <td>No Discount</td>\n      <td>0.0</td>\n      <td>No Discount</td>\n      <td>No Discount</td>\n      <td>2011-05-01</td>\n      <td>2014-11-30</td>\n      <td>0</td>\n      <td>NaN</td>\n    </tr>\n    <tr>\n      <th>3</th>\n      <td>1</td>\n      <td>708</td>\n      <td>No Discount</td>\n      <td>0.0</td>\n      <td>No Discount</td>\n      <td>No Discount</td>\n      <td>2011-05-01</td>\n      <td>2014-11-30</td>\n      <td>0</td>\n      <td>NaN</td>\n    </tr>\n    <tr>\n      <th>4</th>\n      <td>1</td>\n      <td>709</td>\n      <td>No Discount</td>\n      <td>0.0</td>\n      <td>No Discount</td>\n      <td>No Discount</td>\n      <td>2011-05-01</td>\n      <td>2014-11-30</td>\n      <td>0</td>\n      <td>NaN</td>\n    </tr>\n  </tbody>\n</table>\n</div>"
     },
     "execution_count": 32,
     "metadata": {},
     "output_type": "execute_result"
    }
   ],
   "source": [
    "special_offer_sql = \"\"\"\n",
    "SELECT\n",
    "    so.SpecialOfferID,\n",
    "    ProductID,\n",
    "    Description,\n",
    "    DiscountPct,\n",
    "    Type,\n",
    "    Category,\n",
    "    StartDate,\n",
    "    EndDate,\n",
    "    MinQty,\n",
    "    MaxQty\n",
    "    From Sales.SpecialOfferProduct as sop\n",
    "    INNER JOIN Sales.SpecialOffer as so\n",
    "        ON sop.SpecialOfferID = so.SpecialOfferID;\n",
    "\"\"\"\n",
    "\n",
    "df = pd.read_sql(special_offer_sql, ms_sql_session_manager.get_engine())\n",
    "\n",
    "df.head()"
   ],
   "metadata": {
    "collapsed": false,
    "ExecuteTime": {
     "end_time": "2024-01-15T08:04:21.026191400Z",
     "start_time": "2024-01-15T08:04:20.893496400Z"
    }
   },
   "id": "8e524e44f3434e8",
   "execution_count": 32
  },
  {
   "cell_type": "markdown",
   "source": [
    "#### Transform"
   ],
   "metadata": {
    "collapsed": false
   },
   "id": "cb73325d89c2ffb8"
  },
  {
   "cell_type": "markdown",
   "source": [
    "#### Load"
   ],
   "metadata": {
    "collapsed": false
   },
   "id": "987fd6685c4b1ad5"
  },
  {
   "cell_type": "code",
   "outputs": [
    {
     "data": {
      "text/plain": "538"
     },
     "execution_count": 33,
     "metadata": {},
     "output_type": "execute_result"
    }
   ],
   "source": [
    "df.to_sql(\n",
    "    'special_offer', \n",
    "    mariadb_session_manager.get_engine(), \n",
    "    if_exists='replace', \n",
    "    index=False\n",
    ")"
   ],
   "metadata": {
    "collapsed": false,
    "ExecuteTime": {
     "end_time": "2024-01-15T08:04:21.183023500Z",
     "start_time": "2024-01-15T08:04:20.924076100Z"
    }
   },
   "id": "ece08a7cc072248a",
   "execution_count": 33
  },
  {
   "cell_type": "markdown",
   "source": [
    "### CreditCard Table\n",
    "#### Extract"
   ],
   "metadata": {
    "collapsed": false
   },
   "id": "f576152ea77b5a8"
  },
  {
   "cell_type": "code",
   "outputs": [
    {
     "data": {
      "text/plain": "   CreditCardID       CardType      CardNumber  ExpMonth  ExpYear\n0             1   SuperiorCard  33332664695310        11     2006\n1             2    Distinguish  55552127249722         8     2005\n2             3  ColonialVoice  77778344838353         7     2005\n3             4  ColonialVoice  77774915718248         7     2006\n4             5          Vista  11114404600042         4     2005",
      "text/html": "<div>\n<style scoped>\n    .dataframe tbody tr th:only-of-type {\n        vertical-align: middle;\n    }\n\n    .dataframe tbody tr th {\n        vertical-align: top;\n    }\n\n    .dataframe thead th {\n        text-align: right;\n    }\n</style>\n<table border=\"1\" class=\"dataframe\">\n  <thead>\n    <tr style=\"text-align: right;\">\n      <th></th>\n      <th>CreditCardID</th>\n      <th>CardType</th>\n      <th>CardNumber</th>\n      <th>ExpMonth</th>\n      <th>ExpYear</th>\n    </tr>\n  </thead>\n  <tbody>\n    <tr>\n      <th>0</th>\n      <td>1</td>\n      <td>SuperiorCard</td>\n      <td>33332664695310</td>\n      <td>11</td>\n      <td>2006</td>\n    </tr>\n    <tr>\n      <th>1</th>\n      <td>2</td>\n      <td>Distinguish</td>\n      <td>55552127249722</td>\n      <td>8</td>\n      <td>2005</td>\n    </tr>\n    <tr>\n      <th>2</th>\n      <td>3</td>\n      <td>ColonialVoice</td>\n      <td>77778344838353</td>\n      <td>7</td>\n      <td>2005</td>\n    </tr>\n    <tr>\n      <th>3</th>\n      <td>4</td>\n      <td>ColonialVoice</td>\n      <td>77774915718248</td>\n      <td>7</td>\n      <td>2006</td>\n    </tr>\n    <tr>\n      <th>4</th>\n      <td>5</td>\n      <td>Vista</td>\n      <td>11114404600042</td>\n      <td>4</td>\n      <td>2005</td>\n    </tr>\n  </tbody>\n</table>\n</div>"
     },
     "execution_count": 34,
     "metadata": {},
     "output_type": "execute_result"
    }
   ],
   "source": [
    "credit_card_sql = \"\"\"\n",
    "\n",
    "SELECT\n",
    "    CreditCardID,\n",
    "    CardType,\n",
    "    CardNumber,\n",
    "    ExpMonth,\n",
    "    ExpYear\n",
    "    from Sales.CreditCard;\n",
    "\"\"\"\n",
    "\n",
    "df = pd.read_sql(credit_card_sql, ms_sql_session_manager.get_engine())\n",
    "\n",
    "df.head()"
   ],
   "metadata": {
    "collapsed": false,
    "ExecuteTime": {
     "end_time": "2024-01-15T08:04:21.290085300Z",
     "start_time": "2024-01-15T08:04:21.082802Z"
    }
   },
   "id": "a86dde2f57a9ddea",
   "execution_count": 34
  },
  {
   "cell_type": "markdown",
   "source": [
    "#### Transform"
   ],
   "metadata": {
    "collapsed": false
   },
   "id": "cd083d1ffedbe2a3"
  },
  {
   "cell_type": "markdown",
   "source": [
    "#### Load"
   ],
   "metadata": {
    "collapsed": false
   },
   "id": "63a5469c7e12f944"
  },
  {
   "cell_type": "code",
   "outputs": [
    {
     "data": {
      "text/plain": "19118"
     },
     "execution_count": 35,
     "metadata": {},
     "output_type": "execute_result"
    }
   ],
   "source": [
    "df.to_sql(\n",
    "    'credit_card', \n",
    "    mariadb_session_manager.get_engine(), \n",
    "    if_exists='replace', \n",
    "    index=False\n",
    ")"
   ],
   "metadata": {
    "collapsed": false,
    "ExecuteTime": {
     "end_time": "2024-01-15T08:04:21.690286Z",
     "start_time": "2024-01-15T08:04:21.194779Z"
    }
   },
   "id": "c41b3929bcdcf337",
   "execution_count": 35
  }
 ],
 "metadata": {
  "kernelspec": {
   "display_name": "Python 3",
   "language": "python",
   "name": "python3"
  },
  "language_info": {
   "codemirror_mode": {
    "name": "ipython",
    "version": 2
   },
   "file_extension": ".py",
   "mimetype": "text/x-python",
   "name": "python",
   "nbconvert_exporter": "python",
   "pygments_lexer": "ipython2",
   "version": "2.7.6"
  }
 },
 "nbformat": 4,
 "nbformat_minor": 5
}
